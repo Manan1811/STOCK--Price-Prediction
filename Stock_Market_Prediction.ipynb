{
  "nbformat": 4,
  "nbformat_minor": 0,
  "metadata": {
    "colab": {
      "name": "Stock Market Prediction.ipynb",
      "provenance": [],
      "collapsed_sections": [],
      "authorship_tag": "ABX9TyPoOT/C5TvPQvo8yorm7bI1",
      "include_colab_link": true
    },
    "kernelspec": {
      "name": "python3",
      "display_name": "Python 3"
    }
  },
  "cells": [
    {
      "cell_type": "markdown",
      "metadata": {
        "id": "view-in-github",
        "colab_type": "text"
      },
      "source": [
        "<a href=\"https://colab.research.google.com/github/Manan1811/STOCK--Price-Prediction/blob/master/Stock_Market_Prediction.ipynb\" target=\"_parent\"><img src=\"https://colab.research.google.com/assets/colab-badge.svg\" alt=\"Open In Colab\"/></a>"
      ]
    },
    {
      "cell_type": "code",
      "metadata": {
        "id": "ApjqRdGAZ0xV",
        "colab_type": "code",
        "colab": {
          "base_uri": "https://localhost:8080/",
          "height": 121
        },
        "outputId": "6d40a258-debb-41f9-83a8-99102630b252"
      },
      "source": [
        "from google.colab import drive\n",
        "drive.mount('/content/drive')"
      ],
      "execution_count": null,
      "outputs": [
        {
          "output_type": "stream",
          "text": [
            "Go to this URL in a browser: https://accounts.google.com/o/oauth2/auth?client_id=947318989803-6bn6qk8qdgf4n4g3pfee6491hc0brc4i.apps.googleusercontent.com&redirect_uri=urn%3aietf%3awg%3aoauth%3a2.0%3aoob&response_type=code&scope=email%20https%3a%2f%2fwww.googleapis.com%2fauth%2fdocs.test%20https%3a%2f%2fwww.googleapis.com%2fauth%2fdrive%20https%3a%2f%2fwww.googleapis.com%2fauth%2fdrive.photos.readonly%20https%3a%2f%2fwww.googleapis.com%2fauth%2fpeopleapi.readonly\n",
            "\n",
            "Enter your authorization code:\n",
            "··········\n",
            "Mounted at /content/drive\n"
          ],
          "name": "stdout"
        }
      ]
    },
    {
      "cell_type": "code",
      "metadata": {
        "id": "8e7lJfXTaAkK",
        "colab_type": "code",
        "colab": {
          "base_uri": "https://localhost:8080/",
          "height": 195
        },
        "outputId": "77dc7414-49e2-4b23-e99f-60d47ed84c1a"
      },
      "source": [
        "import pandas as pd\n",
        "import matplotlib.pyplot as plt\n",
        "import numpy as np\n",
        "from sklearn.preprocessing import MinMaxScaler\n",
        "from tensorflow.keras.models import Sequential\n",
        "from tensorflow.keras.layers import Dense\n",
        "from tensorflow.keras.layers import LSTM\n",
        "import math\n",
        "from sklearn.metrics import mean_squared_error\n",
        "from numpy import array\n",
        "path = \"/content/drive/My Drive/AAPL.csv\"\n",
        "df=pd.read_csv(path)\n",
        "df.head()"
      ],
      "execution_count": null,
      "outputs": [
        {
          "output_type": "execute_result",
          "data": {
            "text/html": [
              "<div>\n",
              "<style scoped>\n",
              "    .dataframe tbody tr th:only-of-type {\n",
              "        vertical-align: middle;\n",
              "    }\n",
              "\n",
              "    .dataframe tbody tr th {\n",
              "        vertical-align: top;\n",
              "    }\n",
              "\n",
              "    .dataframe thead th {\n",
              "        text-align: right;\n",
              "    }\n",
              "</style>\n",
              "<table border=\"1\" class=\"dataframe\">\n",
              "  <thead>\n",
              "    <tr style=\"text-align: right;\">\n",
              "      <th></th>\n",
              "      <th>Unnamed: 0</th>\n",
              "      <th>symbol</th>\n",
              "      <th>date</th>\n",
              "      <th>close</th>\n",
              "      <th>high</th>\n",
              "      <th>low</th>\n",
              "      <th>open</th>\n",
              "      <th>volume</th>\n",
              "      <th>adjClose</th>\n",
              "      <th>adjHigh</th>\n",
              "      <th>adjLow</th>\n",
              "      <th>adjOpen</th>\n",
              "      <th>adjVolume</th>\n",
              "      <th>divCash</th>\n",
              "      <th>splitFactor</th>\n",
              "    </tr>\n",
              "  </thead>\n",
              "  <tbody>\n",
              "    <tr>\n",
              "      <th>0</th>\n",
              "      <td>0</td>\n",
              "      <td>AAPL</td>\n",
              "      <td>2015-05-27 00:00:00+00:00</td>\n",
              "      <td>132.045</td>\n",
              "      <td>132.260</td>\n",
              "      <td>130.05</td>\n",
              "      <td>130.34</td>\n",
              "      <td>45833246</td>\n",
              "      <td>121.682558</td>\n",
              "      <td>121.880685</td>\n",
              "      <td>119.844118</td>\n",
              "      <td>120.111360</td>\n",
              "      <td>45833246</td>\n",
              "      <td>0.0</td>\n",
              "      <td>1.0</td>\n",
              "    </tr>\n",
              "    <tr>\n",
              "      <th>1</th>\n",
              "      <td>1</td>\n",
              "      <td>AAPL</td>\n",
              "      <td>2015-05-28 00:00:00+00:00</td>\n",
              "      <td>131.780</td>\n",
              "      <td>131.950</td>\n",
              "      <td>131.10</td>\n",
              "      <td>131.86</td>\n",
              "      <td>30733309</td>\n",
              "      <td>121.438354</td>\n",
              "      <td>121.595013</td>\n",
              "      <td>120.811718</td>\n",
              "      <td>121.512076</td>\n",
              "      <td>30733309</td>\n",
              "      <td>0.0</td>\n",
              "      <td>1.0</td>\n",
              "    </tr>\n",
              "    <tr>\n",
              "      <th>2</th>\n",
              "      <td>2</td>\n",
              "      <td>AAPL</td>\n",
              "      <td>2015-05-29 00:00:00+00:00</td>\n",
              "      <td>130.280</td>\n",
              "      <td>131.450</td>\n",
              "      <td>129.90</td>\n",
              "      <td>131.23</td>\n",
              "      <td>50884452</td>\n",
              "      <td>120.056069</td>\n",
              "      <td>121.134251</td>\n",
              "      <td>119.705890</td>\n",
              "      <td>120.931516</td>\n",
              "      <td>50884452</td>\n",
              "      <td>0.0</td>\n",
              "      <td>1.0</td>\n",
              "    </tr>\n",
              "    <tr>\n",
              "      <th>3</th>\n",
              "      <td>3</td>\n",
              "      <td>AAPL</td>\n",
              "      <td>2015-06-01 00:00:00+00:00</td>\n",
              "      <td>130.535</td>\n",
              "      <td>131.390</td>\n",
              "      <td>130.05</td>\n",
              "      <td>131.20</td>\n",
              "      <td>32112797</td>\n",
              "      <td>120.291057</td>\n",
              "      <td>121.078960</td>\n",
              "      <td>119.844118</td>\n",
              "      <td>120.903870</td>\n",
              "      <td>32112797</td>\n",
              "      <td>0.0</td>\n",
              "      <td>1.0</td>\n",
              "    </tr>\n",
              "    <tr>\n",
              "      <th>4</th>\n",
              "      <td>4</td>\n",
              "      <td>AAPL</td>\n",
              "      <td>2015-06-02 00:00:00+00:00</td>\n",
              "      <td>129.960</td>\n",
              "      <td>130.655</td>\n",
              "      <td>129.32</td>\n",
              "      <td>129.86</td>\n",
              "      <td>33667627</td>\n",
              "      <td>119.761181</td>\n",
              "      <td>120.401640</td>\n",
              "      <td>119.171406</td>\n",
              "      <td>119.669029</td>\n",
              "      <td>33667627</td>\n",
              "      <td>0.0</td>\n",
              "      <td>1.0</td>\n",
              "    </tr>\n",
              "  </tbody>\n",
              "</table>\n",
              "</div>"
            ],
            "text/plain": [
              "   Unnamed: 0 symbol  ... divCash  splitFactor\n",
              "0           0   AAPL  ...     0.0          1.0\n",
              "1           1   AAPL  ...     0.0          1.0\n",
              "2           2   AAPL  ...     0.0          1.0\n",
              "3           3   AAPL  ...     0.0          1.0\n",
              "4           4   AAPL  ...     0.0          1.0\n",
              "\n",
              "[5 rows x 15 columns]"
            ]
          },
          "metadata": {
            "tags": []
          },
          "execution_count": 2
        }
      ]
    },
    {
      "cell_type": "code",
      "metadata": {
        "id": "mIqg-sJvaXZG",
        "colab_type": "code",
        "colab": {
          "base_uri": "https://localhost:8080/",
          "height": 218
        },
        "outputId": "35b13b4c-94da-4f7d-dbee-167b76308c92"
      },
      "source": [
        "df1=df.reset_index()['close']\n",
        "df1"
      ],
      "execution_count": null,
      "outputs": [
        {
          "output_type": "execute_result",
          "data": {
            "text/plain": [
              "0       132.045\n",
              "1       131.780\n",
              "2       130.280\n",
              "3       130.535\n",
              "4       129.960\n",
              "         ...   \n",
              "1253    314.960\n",
              "1254    313.140\n",
              "1255    319.230\n",
              "1256    316.850\n",
              "1257    318.890\n",
              "Name: close, Length: 1258, dtype: float64"
            ]
          },
          "metadata": {
            "tags": []
          },
          "execution_count": 3
        }
      ]
    },
    {
      "cell_type": "code",
      "metadata": {
        "id": "2N0RHqVvaa8g",
        "colab_type": "code",
        "colab": {
          "base_uri": "https://localhost:8080/",
          "height": 282
        },
        "outputId": "9a421301-50fa-47e7-a105-90a4375cbd2b"
      },
      "source": [
        "plt.plot(df1)"
      ],
      "execution_count": null,
      "outputs": [
        {
          "output_type": "execute_result",
          "data": {
            "text/plain": [
              "[<matplotlib.lines.Line2D at 0x7f468f35e240>]"
            ]
          },
          "metadata": {
            "tags": []
          },
          "execution_count": 4
        },
        {
          "output_type": "display_data",
          "data": {
            "image/png": "[encoded data removed]",
            "text/plain": [
              "<Figure size 432x288 with 1 Axes>"
            ]
          },
          "metadata": {
            "tags": [],
            "needs_background": "light"
          }
        }
      ]
    },
    {
      "cell_type": "code",
      "metadata": {
        "id": "0Hj5DKLRaghO",
        "colab_type": "code",
        "colab": {
          "base_uri": "https://localhost:8080/",
          "height": 134
        },
        "outputId": "c4263e52-6ce6-4d28-f931-3992f52601fd"
      },
      "source": [
        "scaler=MinMaxScaler(feature_range=(0,1))\n",
        "df1=scaler.fit_transform(np.array(df1).reshape(-1,1))\n",
        "df1"
      ],
      "execution_count": null,
      "outputs": [
        {
          "output_type": "execute_result",
          "data": {
            "text/plain": [
              "array([[0.17607447],\n",
              "       [0.17495567],\n",
              "       [0.16862282],\n",
              "       ...,\n",
              "       [0.96635143],\n",
              "       [0.9563033 ],\n",
              "       [0.96491598]])"
            ]
          },
          "metadata": {
            "tags": []
          },
          "execution_count": 5
        }
      ]
    },
    {
      "cell_type": "code",
      "metadata": {
        "id": "S5TSU2EynHI1",
        "colab_type": "code",
        "colab": {}
      },
      "source": [
        "training_size=int(len(df1)*0.65)\n",
        "test_size=len(df1)-training_size\n",
        "train_data,test_data=df1[0:training_size,:],df1[training_size:len(df1),:1]"
      ],
      "execution_count": null,
      "outputs": []
    },
    {
      "cell_type": "code",
      "metadata": {
        "id": "BIoNDrcMnLMS",
        "colab_type": "code",
        "colab": {}
      },
      "source": [
        "def create_dataset(dataset, time_step=1):\n",
        "\tdataX, dataY = [], []\n",
        "\tfor i in range(len(dataset)-time_step-1):\n",
        "\t\ta = dataset[i:(i+time_step), 0]   ###i=0, 0,1,2,3-----99   100 \n",
        "\t\tdataX.append(a)\n",
        "\t\tdataY.append(dataset[i + time_step, 0])\n",
        "\treturn np.array(dataX), np.array(dataY)"
      ],
      "execution_count": null,
      "outputs": []
    },
    {
      "cell_type": "code",
      "metadata": {
        "id": "BbYkJlsBnQB0",
        "colab_type": "code",
        "colab": {
          "base_uri": "https://localhost:8080/",
          "height": 101
        },
        "outputId": "eb349632-841c-4543-c7a0-e642821f2d6c"
      },
      "source": [
        "# reshape into X=t,t+1,t+2,t+3 and Y=t+4\n",
        "time_step = 100\n",
        "X_train, y_train = create_dataset(train_data, time_step)\n",
        "X_test, ytest = create_dataset(test_data, time_step)\n",
        "\n",
        "print(X_train.shape), print(y_train.shape)\n",
        "print(X_test.shape), print(ytest.shape)"
      ],
      "execution_count": null,
      "outputs": [
        {
          "output_type": "stream",
          "text": [
            "(716, 100)\n",
            "(716,)\n",
            "(340, 100)\n",
            "(340,)\n"
          ],
          "name": "stdout"
        },
        {
          "output_type": "execute_result",
          "data": {
            "text/plain": [
              "(None, None)"
            ]
          },
          "metadata": {
            "tags": []
          },
          "execution_count": 10
        }
      ]
    },
    {
      "cell_type": "code",
      "metadata": {
        "id": "7HYmgYuOnYmR",
        "colab_type": "code",
        "colab": {}
      },
      "source": [
        "# reshape input to be [samples, time steps, features or seq_len] which is required for LSTM\n",
        "X_train =X_train.reshape(X_train.shape[0],X_train.shape[1] , 1)\n",
        "X_test = X_test.reshape(X_test.shape[0],X_test.shape[1] , 1)"
      ],
      "execution_count": null,
      "outputs": []
    },
    {
      "cell_type": "code",
      "metadata": {
        "id": "0ptXHV63nrrx",
        "colab_type": "code",
        "colab": {
          "base_uri": "https://localhost:8080/",
          "height": 286
        },
        "outputId": "1ff365ac-91c3-4f7f-ce00-5bea263c8e46"
      },
      "source": [
        "model=Sequential()\n",
        "model.add(LSTM(50,return_sequences=True,input_shape=(100,1)))\n",
        "# input shape - (time_steps, features)\n",
        "model.add(LSTM(50,return_sequences=True))\n",
        "model.add(LSTM(50))\n",
        "model.add(Dense(1))\n",
        "model.compile(loss='mean_squared_error',optimizer='adam')\n",
        "model.summary()"
      ],
      "execution_count": null,
      "outputs": [
        {
          "output_type": "stream",
          "text": [
            "Model: \"sequential\"\n",
            "_________________________________________________________________\n",
            "Layer (type)                 Output Shape              Param #   \n",
            "=================================================================\n",
            "lstm (LSTM)                  (None, 100, 50)           10400     \n",
            "_________________________________________________________________\n",
            "lstm_1 (LSTM)                (None, 100, 50)           20200     \n",
            "_________________________________________________________________\n",
            "lstm_2 (LSTM)                (None, 50)                20200     \n",
            "_________________________________________________________________\n",
            "dense (Dense)                (None, 1)                 51        \n",
            "=================================================================\n",
            "Total params: 50,851\n",
            "Trainable params: 50,851\n",
            "Non-trainable params: 0\n",
            "_________________________________________________________________\n"
          ],
          "name": "stdout"
        }
      ]
    },
    {
      "cell_type": "code",
      "metadata": {
        "id": "bsok7d2dnwCR",
        "colab_type": "code",
        "colab": {
          "base_uri": "https://localhost:8080/",
          "height": 1000
        },
        "outputId": "f6d957ae-cb6f-477d-dd68-d616684b91e4"
      },
      "source": [
        "model.fit(X_train,y_train,validation_data=(X_test,ytest),epochs=100,batch_size=64,verbose=1)"
      ],
      "execution_count": null,
      "outputs": [
        {
          "output_type": "stream",
          "text": [
            "Epoch 1/100\n",
            "12/12 [==============================] - 4s 324ms/step - loss: 0.0125 - val_loss: 0.0585\n",
            "Epoch 2/100\n",
            "12/12 [==============================] - 3s 216ms/step - loss: 0.0031 - val_loss: 0.0044\n",
            "Epoch 3/100\n",
            "12/12 [==============================] - 3s 215ms/step - loss: 9.6488e-04 - val_loss: 0.0050\n",
            "Epoch 4/100\n",
            "12/12 [==============================] - 3s 222ms/step - loss: 7.9763e-04 - val_loss: 0.0038\n",
            "Epoch 5/100\n",
            "12/12 [==============================] - 3s 213ms/step - loss: 6.2078e-04 - val_loss: 0.0058\n",
            "Epoch 6/100\n",
            "12/12 [==============================] - 3s 215ms/step - loss: 6.3458e-04 - val_loss: 0.0053\n",
            "Epoch 7/100\n",
            "12/12 [==============================] - 2s 206ms/step - loss: 6.4008e-04 - val_loss: 0.0055\n",
            "Epoch 8/100\n",
            "12/12 [==============================] - 2s 200ms/step - loss: 6.2920e-04 - val_loss: 0.0043\n",
            "Epoch 9/100\n",
            "12/12 [==============================] - 2s 195ms/step - loss: 5.7081e-04 - val_loss: 0.0037\n",
            "Epoch 10/100\n",
            "12/12 [==============================] - 2s 197ms/step - loss: 5.5862e-04 - val_loss: 0.0035\n",
            "Epoch 11/100\n",
            "12/12 [==============================] - 2s 196ms/step - loss: 5.5407e-04 - val_loss: 0.0032\n",
            "Epoch 12/100\n",
            "12/12 [==============================] - 2s 198ms/step - loss: 5.6967e-04 - val_loss: 0.0031\n",
            "Epoch 13/100\n",
            "12/12 [==============================] - 2s 195ms/step - loss: 5.7745e-04 - val_loss: 0.0031\n",
            "Epoch 14/100\n",
            "12/12 [==============================] - 2s 197ms/step - loss: 5.5114e-04 - val_loss: 0.0030\n",
            "Epoch 15/100\n",
            "12/12 [==============================] - 2s 198ms/step - loss: 5.8911e-04 - val_loss: 0.0029\n",
            "Epoch 16/100\n",
            "12/12 [==============================] - 2s 200ms/step - loss: 5.6389e-04 - val_loss: 0.0037\n",
            "Epoch 17/100\n",
            "12/12 [==============================] - 2s 198ms/step - loss: 5.9832e-04 - val_loss: 0.0042\n",
            "Epoch 18/100\n",
            "12/12 [==============================] - 2s 200ms/step - loss: 5.1353e-04 - val_loss: 0.0029\n",
            "Epoch 19/100\n",
            "12/12 [==============================] - 2s 199ms/step - loss: 4.9563e-04 - val_loss: 0.0028\n",
            "Epoch 20/100\n",
            "12/12 [==============================] - 2s 203ms/step - loss: 4.9005e-04 - val_loss: 0.0026\n",
            "Epoch 21/100\n",
            "12/12 [==============================] - 2s 202ms/step - loss: 5.0456e-04 - val_loss: 0.0025\n",
            "Epoch 22/100\n",
            "12/12 [==============================] - 2s 199ms/step - loss: 4.5924e-04 - val_loss: 0.0025\n",
            "Epoch 23/100\n",
            "12/12 [==============================] - 2s 203ms/step - loss: 4.9084e-04 - val_loss: 0.0027\n",
            "Epoch 24/100\n",
            "12/12 [==============================] - 2s 198ms/step - loss: 4.5991e-04 - val_loss: 0.0023\n",
            "Epoch 25/100\n",
            "12/12 [==============================] - 2s 198ms/step - loss: 4.5609e-04 - val_loss: 0.0025\n",
            "Epoch 26/100\n",
            "12/12 [==============================] - 2s 196ms/step - loss: 4.3167e-04 - val_loss: 0.0021\n",
            "Epoch 27/100\n",
            "12/12 [==============================] - 2s 201ms/step - loss: 4.1085e-04 - val_loss: 0.0025\n",
            "Epoch 28/100\n",
            "12/12 [==============================] - 2s 197ms/step - loss: 4.5395e-04 - val_loss: 0.0019\n",
            "Epoch 29/100\n",
            "12/12 [==============================] - 2s 200ms/step - loss: 3.9510e-04 - val_loss: 0.0024\n",
            "Epoch 30/100\n",
            "12/12 [==============================] - 2s 200ms/step - loss: 4.2472e-04 - val_loss: 0.0018\n",
            "Epoch 31/100\n",
            "12/12 [==============================] - 2s 203ms/step - loss: 4.3031e-04 - val_loss: 0.0025\n",
            "Epoch 32/100\n",
            "12/12 [==============================] - 3s 211ms/step - loss: 5.5080e-04 - val_loss: 0.0019\n",
            "Epoch 33/100\n",
            "12/12 [==============================] - 3s 245ms/step - loss: 4.7006e-04 - val_loss: 0.0018\n",
            "Epoch 34/100\n",
            "12/12 [==============================] - 3s 245ms/step - loss: 3.8562e-04 - val_loss: 0.0019\n",
            "Epoch 35/100\n",
            "12/12 [==============================] - 3s 234ms/step - loss: 3.6307e-04 - val_loss: 0.0017\n",
            "Epoch 36/100\n",
            "12/12 [==============================] - 3s 229ms/step - loss: 3.5645e-04 - val_loss: 0.0015\n",
            "Epoch 37/100\n",
            "12/12 [==============================] - 3s 233ms/step - loss: 3.4446e-04 - val_loss: 0.0022\n",
            "Epoch 38/100\n",
            "12/12 [==============================] - 3s 228ms/step - loss: 3.5009e-04 - val_loss: 0.0017\n",
            "Epoch 39/100\n",
            "12/12 [==============================] - 3s 232ms/step - loss: 3.2147e-04 - val_loss: 0.0014\n",
            "Epoch 40/100\n",
            "12/12 [==============================] - 3s 226ms/step - loss: 3.3094e-04 - val_loss: 0.0014\n",
            "Epoch 41/100\n",
            "12/12 [==============================] - 3s 227ms/step - loss: 3.2867e-04 - val_loss: 0.0014\n",
            "Epoch 42/100\n",
            "12/12 [==============================] - 3s 229ms/step - loss: 3.0966e-04 - val_loss: 0.0014\n",
            "Epoch 43/100\n",
            "12/12 [==============================] - 3s 244ms/step - loss: 2.9985e-04 - val_loss: 0.0015\n",
            "Epoch 44/100\n",
            "12/12 [==============================] - 3s 255ms/step - loss: 2.9448e-04 - val_loss: 0.0012\n",
            "Epoch 45/100\n",
            "12/12 [==============================] - 3s 254ms/step - loss: 2.9394e-04 - val_loss: 0.0013\n",
            "Epoch 46/100\n",
            "12/12 [==============================] - 3s 271ms/step - loss: 2.8478e-04 - val_loss: 0.0014\n",
            "Epoch 47/100\n",
            "12/12 [==============================] - 3s 228ms/step - loss: 2.7525e-04 - val_loss: 0.0019\n",
            "Epoch 48/100\n",
            "12/12 [==============================] - 3s 227ms/step - loss: 2.6800e-04 - val_loss: 0.0015\n",
            "Epoch 49/100\n",
            "12/12 [==============================] - 3s 237ms/step - loss: 3.1860e-04 - val_loss: 0.0015\n",
            "Epoch 50/100\n",
            "12/12 [==============================] - 3s 237ms/step - loss: 2.9262e-04 - val_loss: 0.0013\n",
            "Epoch 51/100\n",
            "12/12 [==============================] - 3s 227ms/step - loss: 2.9484e-04 - val_loss: 0.0029\n",
            "Epoch 52/100\n",
            "12/12 [==============================] - 2s 207ms/step - loss: 2.6904e-04 - val_loss: 0.0016\n",
            "Epoch 53/100\n",
            "12/12 [==============================] - 2s 202ms/step - loss: 2.6605e-04 - val_loss: 0.0014\n",
            "Epoch 54/100\n",
            "12/12 [==============================] - 2s 200ms/step - loss: 2.4959e-04 - val_loss: 0.0015\n",
            "Epoch 55/100\n",
            "12/12 [==============================] - 2s 202ms/step - loss: 2.4207e-04 - val_loss: 0.0011\n",
            "Epoch 56/100\n",
            "12/12 [==============================] - 2s 201ms/step - loss: 2.5044e-04 - val_loss: 0.0015\n",
            "Epoch 57/100\n",
            "12/12 [==============================] - 2s 202ms/step - loss: 2.2878e-04 - val_loss: 0.0012\n",
            "Epoch 58/100\n",
            "12/12 [==============================] - 2s 203ms/step - loss: 2.2278e-04 - val_loss: 0.0014\n",
            "Epoch 59/100\n",
            "12/12 [==============================] - 2s 200ms/step - loss: 2.2770e-04 - val_loss: 0.0011\n",
            "Epoch 60/100\n",
            "12/12 [==============================] - 2s 204ms/step - loss: 2.2331e-04 - val_loss: 0.0013\n",
            "Epoch 61/100\n",
            "12/12 [==============================] - 2s 202ms/step - loss: 2.1473e-04 - val_loss: 0.0011\n",
            "Epoch 62/100\n",
            "12/12 [==============================] - 2s 200ms/step - loss: 2.2591e-04 - val_loss: 0.0011\n",
            "Epoch 63/100\n",
            "12/12 [==============================] - 2s 203ms/step - loss: 2.2016e-04 - val_loss: 0.0015\n",
            "Epoch 64/100\n",
            "12/12 [==============================] - 2s 205ms/step - loss: 2.2490e-04 - val_loss: 0.0011\n",
            "Epoch 65/100\n",
            "12/12 [==============================] - 2s 203ms/step - loss: 1.9543e-04 - val_loss: 0.0020\n",
            "Epoch 66/100\n",
            "12/12 [==============================] - 3s 214ms/step - loss: 2.5077e-04 - val_loss: 0.0011\n",
            "Epoch 67/100\n",
            "12/12 [==============================] - 3s 218ms/step - loss: 2.0115e-04 - val_loss: 0.0010\n",
            "Epoch 68/100\n",
            "12/12 [==============================] - 3s 223ms/step - loss: 2.0817e-04 - val_loss: 0.0016\n",
            "Epoch 69/100\n",
            "12/12 [==============================] - 3s 223ms/step - loss: 2.0756e-04 - val_loss: 0.0015\n",
            "Epoch 70/100\n",
            "12/12 [==============================] - 3s 219ms/step - loss: 2.0690e-04 - val_loss: 0.0011\n",
            "Epoch 71/100\n",
            "12/12 [==============================] - 3s 215ms/step - loss: 2.2600e-04 - val_loss: 0.0012\n",
            "Epoch 72/100\n",
            "12/12 [==============================] - 3s 239ms/step - loss: 2.3550e-04 - val_loss: 0.0012\n",
            "Epoch 73/100\n",
            "12/12 [==============================] - 3s 241ms/step - loss: 1.8608e-04 - val_loss: 0.0012\n",
            "Epoch 74/100\n",
            "12/12 [==============================] - 3s 233ms/step - loss: 1.8559e-04 - val_loss: 9.8701e-04\n",
            "Epoch 75/100\n",
            "12/12 [==============================] - 3s 220ms/step - loss: 1.7141e-04 - val_loss: 0.0013\n",
            "Epoch 76/100\n",
            "12/12 [==============================] - 3s 221ms/step - loss: 1.8254e-04 - val_loss: 9.4615e-04\n",
            "Epoch 77/100\n",
            "12/12 [==============================] - 3s 226ms/step - loss: 1.8858e-04 - val_loss: 0.0013\n",
            "Epoch 78/100\n",
            "12/12 [==============================] - 3s 225ms/step - loss: 1.8651e-04 - val_loss: 8.9476e-04\n",
            "Epoch 79/100\n",
            "12/12 [==============================] - 3s 220ms/step - loss: 1.9760e-04 - val_loss: 9.9556e-04\n",
            "Epoch 80/100\n",
            "12/12 [==============================] - 3s 228ms/step - loss: 1.7311e-04 - val_loss: 0.0010\n",
            "Epoch 81/100\n",
            "12/12 [==============================] - 3s 239ms/step - loss: 1.6768e-04 - val_loss: 9.2451e-04\n",
            "Epoch 82/100\n",
            "12/12 [==============================] - 3s 217ms/step - loss: 1.5534e-04 - val_loss: 9.0519e-04\n",
            "Epoch 83/100\n",
            "12/12 [==============================] - 3s 212ms/step - loss: 1.5914e-04 - val_loss: 0.0024\n",
            "Epoch 84/100\n",
            "12/12 [==============================] - 3s 222ms/step - loss: 2.2936e-04 - val_loss: 8.4860e-04\n",
            "Epoch 85/100\n",
            "12/12 [==============================] - 3s 224ms/step - loss: 1.9379e-04 - val_loss: 0.0010\n",
            "Epoch 86/100\n",
            "12/12 [==============================] - 3s 221ms/step - loss: 1.6561e-04 - val_loss: 8.6757e-04\n",
            "Epoch 87/100\n",
            "12/12 [==============================] - 2s 205ms/step - loss: 1.4614e-04 - val_loss: 8.9851e-04\n",
            "Epoch 88/100\n",
            "12/12 [==============================] - 2s 207ms/step - loss: 1.4540e-04 - val_loss: 9.3313e-04\n",
            "Epoch 89/100\n",
            "12/12 [==============================] - 2s 200ms/step - loss: 1.7827e-04 - val_loss: 8.6730e-04\n",
            "Epoch 90/100\n",
            "12/12 [==============================] - 2s 201ms/step - loss: 1.5134e-04 - val_loss: 8.6541e-04\n",
            "Epoch 91/100\n",
            "12/12 [==============================] - 2s 204ms/step - loss: 1.4728e-04 - val_loss: 8.4174e-04\n",
            "Epoch 92/100\n",
            "12/12 [==============================] - 2s 203ms/step - loss: 1.4854e-04 - val_loss: 9.7234e-04\n",
            "Epoch 93/100\n",
            "12/12 [==============================] - 2s 201ms/step - loss: 1.4053e-04 - val_loss: 0.0010\n",
            "Epoch 94/100\n",
            "12/12 [==============================] - 2s 199ms/step - loss: 1.6220e-04 - val_loss: 8.0646e-04\n",
            "Epoch 95/100\n",
            "12/12 [==============================] - 2s 196ms/step - loss: 1.3990e-04 - val_loss: 0.0011\n",
            "Epoch 96/100\n",
            "12/12 [==============================] - 2s 203ms/step - loss: 1.4160e-04 - val_loss: 8.1026e-04\n",
            "Epoch 97/100\n",
            "12/12 [==============================] - 2s 200ms/step - loss: 1.5212e-04 - val_loss: 7.7458e-04\n",
            "Epoch 98/100\n",
            "12/12 [==============================] - 2s 202ms/step - loss: 1.5860e-04 - val_loss: 9.4487e-04\n",
            "Epoch 99/100\n",
            "12/12 [==============================] - 2s 199ms/step - loss: 1.8781e-04 - val_loss: 9.6782e-04\n",
            "Epoch 100/100\n",
            "12/12 [==============================] - 2s 200ms/step - loss: 1.6404e-04 - val_loss: 7.3515e-04\n"
          ],
          "name": "stdout"
        },
        {
          "output_type": "execute_result",
          "data": {
            "text/plain": [
              "<tensorflow.python.keras.callbacks.History at 0x7f468851cba8>"
            ]
          },
          "metadata": {
            "tags": []
          },
          "execution_count": 13
        }
      ]
    },
    {
      "cell_type": "code",
      "metadata": {
        "id": "Rh8sE0UOn1Ts",
        "colab_type": "code",
        "colab": {}
      },
      "source": [
        "### Lets Do the prediction and check performance metrics\n",
        "train_predict=model.predict(X_train)\n",
        "test_predict=model.predict(X_test)"
      ],
      "execution_count": null,
      "outputs": []
    },
    {
      "cell_type": "code",
      "metadata": {
        "id": "NT4dVHHUn_zs",
        "colab_type": "code",
        "colab": {}
      },
      "source": [
        "##Transformback to original form\n",
        "train_predict=scaler.inverse_transform(train_predict)\n",
        "test_predict=scaler.inverse_transform(test_predict)\n"
      ],
      "execution_count": null,
      "outputs": []
    },
    {
      "cell_type": "code",
      "metadata": {
        "id": "gl8FsDNuoDNg",
        "colab_type": "code",
        "colab": {
          "base_uri": "https://localhost:8080/",
          "height": 34
        },
        "outputId": "7dd07c74-e994-4015-ea48-d72317684b31"
      },
      "source": [
        "math.sqrt(mean_squared_error(y_train,train_predict))"
      ],
      "execution_count": null,
      "outputs": [
        {
          "output_type": "execute_result",
          "data": {
            "text/plain": [
              "142.0063609076354"
            ]
          },
          "metadata": {
            "tags": []
          },
          "execution_count": 16
        }
      ]
    },
    {
      "cell_type": "code",
      "metadata": {
        "id": "W7-8cs7uoF_D",
        "colab_type": "code",
        "colab": {
          "base_uri": "https://localhost:8080/",
          "height": 34
        },
        "outputId": "99f75c0c-5aa7-4525-d9ca-86741f52b285"
      },
      "source": [
        "### Test Data RMSE\n",
        "math.sqrt(mean_squared_error(ytest,test_predict))"
      ],
      "execution_count": null,
      "outputs": [
        {
          "output_type": "execute_result",
          "data": {
            "text/plain": [
              "238.23887577649816"
            ]
          },
          "metadata": {
            "tags": []
          },
          "execution_count": 17
        }
      ]
    },
    {
      "cell_type": "code",
      "metadata": {
        "id": "EBoo5yDroIkZ",
        "colab_type": "code",
        "colab": {
          "base_uri": "https://localhost:8080/",
          "height": 265
        },
        "outputId": "3048bd99-7197-4f37-c853-7a7bc9056827"
      },
      "source": [
        "### Plotting \n",
        "# shift train predictions for plotting\n",
        "look_back=100\n",
        "trainPredictPlot = np.empty_like(df1)\n",
        "trainPredictPlot[:, :] = np.nan\n",
        "trainPredictPlot[look_back:len(train_predict)+look_back, :] = train_predict\n",
        "# shift test predictions for plotting\n",
        "testPredictPlot = np.empty_like(df1)\n",
        "testPredictPlot[:, :] = np.nan\n",
        "testPredictPlot[len(train_predict)+(look_back*2)+1:len(df1)-1, :] = test_predict\n",
        "# plot baseline and predictions\n",
        "plt.plot(scaler.inverse_transform(df1))\n",
        "plt.plot(trainPredictPlot)\n",
        "plt.plot(testPredictPlot)\n",
        "plt.show()"
      ],
      "execution_count": null,
      "outputs": [
        {
          "output_type": "display_data",
          "data": {
            "image/png": "[encoded data removed]",
            "text/plain": [
              "<Figure size 432x288 with 1 Axes>"
            ]
          },
          "metadata": {
            "tags": [],
            "needs_background": "light"
          }
        }
      ]
    },
    {
      "cell_type": "code",
      "metadata": {
        "id": "q1sRTBLAqgy8",
        "colab_type": "code",
        "colab": {
          "base_uri": "https://localhost:8080/",
          "height": 286
        },
        "outputId": "1799c8a4-2114-4343-c8f1-8004110cae42"
      },
      "source": [
        "model.summary()"
      ],
      "execution_count": null,
      "outputs": [
        {
          "output_type": "stream",
          "text": [
            "Model: \"sequential\"\n",
            "_________________________________________________________________\n",
            "Layer (type)                 Output Shape              Param #   \n",
            "=================================================================\n",
            "lstm (LSTM)                  (None, 100, 50)           10400     \n",
            "_________________________________________________________________\n",
            "lstm_1 (LSTM)                (None, 100, 50)           20200     \n",
            "_________________________________________________________________\n",
            "lstm_2 (LSTM)                (None, 50)                20200     \n",
            "_________________________________________________________________\n",
            "dense (Dense)                (None, 1)                 51        \n",
            "=================================================================\n",
            "Total params: 50,851\n",
            "Trainable params: 50,851\n",
            "Non-trainable params: 0\n",
            "_________________________________________________________________\n"
          ],
          "name": "stdout"
        }
      ]
    },
    {
      "cell_type": "code",
      "metadata": {
        "id": "lnd4-WKVqprK",
        "colab_type": "code",
        "colab": {
          "base_uri": "https://localhost:8080/",
          "height": 34
        },
        "outputId": "306b88b7-8667-4dbe-bf28-81534d8fe6e7"
      },
      "source": [
        "model.get_weights()[1].shape"
      ],
      "execution_count": null,
      "outputs": [
        {
          "output_type": "execute_result",
          "data": {
            "text/plain": [
              "(50, 200)"
            ]
          },
          "metadata": {
            "tags": []
          },
          "execution_count": 24
        }
      ]
    },
    {
      "cell_type": "code",
      "metadata": {
        "id": "QJoyhWx6qtMU",
        "colab_type": "code",
        "colab": {}
      },
      "source": [
        ""
      ],
      "execution_count": null,
      "outputs": []
    }
  ]
}